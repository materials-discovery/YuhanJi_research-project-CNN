{
 "cells": [
  {
   "cell_type": "code",
   "execution_count": 21,
   "metadata": {},
   "outputs": [
    {
     "name": "stdout",
     "output_type": "stream",
     "text": [
      "dict_keys(['__header__', '__version__', '__globals__', 'Images', 'num_images', 'padding', 'siz'])\n",
      "dict_keys(['__header__', '__version__', '__globals__', 'Y'])\n",
      "(50, 50, 1, 512) (512,)\n"
     ]
    }
   ],
   "source": [
    "from scipy.io import loadmat\n",
    "import numpy as np\n",
    "# Import training data\n",
    "Y = loadmat('D:/Final_project/matlab_code/Data/data-training.mat')\n",
    "X = loadmat('D:/Final_project/matlab_code/Data/trainingImages.mat')\n",
    "\n",
    "print(X.keys())\n",
    "print(Y.keys())\n",
    "x_train=X['Images']\n",
    "y_train = Y['Y']\n",
    "y_train = y_train.reshape(-1,)\n",
    "# print(x_train)\n",
    "# print(y_train)\n",
    "print(x_train.shape,y_train.shape)"
   ]
  },
  {
   "cell_type": "code",
   "execution_count": 22,
   "metadata": {},
   "outputs": [],
   "source": [
    "# Data normalization\n",
    "y_train = (y_train-np.mean(y_train))/np.std(y_train)"
   ]
  },
  {
   "cell_type": "code",
   "execution_count": 23,
   "metadata": {},
   "outputs": [
    {
     "name": "stdout",
     "output_type": "stream",
     "text": [
      "(50, 50, 384) (384,)\n"
     ]
    }
   ],
   "source": [
    "\n",
    "from sklearn.model_selection import train_test_split\n",
    "\n",
    "x_train = x_train.reshape(-1,50,50,1)\n",
    "x_train, x_validation, y_train, y_validation = train_test_split ( x_train, y_train, shuffle=True,random_state =1, test_size = 0.25 )\n",
    "\n",
    "x_train = x_train.reshape(50,50,384)\n",
    "print(x_train.shape,y_train.shape)"
   ]
  },
  {
   "cell_type": "code",
   "execution_count": 24,
   "metadata": {},
   "outputs": [],
   "source": [
    "# Flip\n",
    "x1 = np.flip(x_train,2)"
   ]
  },
  {
   "cell_type": "code",
   "execution_count": 25,
   "metadata": {},
   "outputs": [],
   "source": [
    "# Rotate 180\n",
    "x2 = np.rot90(x_train,2, (1,2))"
   ]
  },
  {
   "cell_type": "code",
   "execution_count": 26,
   "metadata": {},
   "outputs": [],
   "source": [
    "# flip Rotate 180\n",
    "x3 = np.rot90(x1 ,2, (1,2))"
   ]
  },
  {
   "cell_type": "code",
   "execution_count": 27,
   "metadata": {},
   "outputs": [],
   "source": [
    "# reshape\n",
    "x3 = x3.reshape(-1,50,50,)\n",
    "x1 = x1.reshape(-1,50,50,)\n",
    "x2 = x2.reshape(-1,50,50,)\n",
    "x_train = x_train.reshape(-1,50,50,)"
   ]
  },
  {
   "cell_type": "code",
   "execution_count": 28,
   "metadata": {},
   "outputs": [],
   "source": [
    "# repeat y_train 4 times\n",
    "y_train = np.hstack((y_train,y_train,y_train,y_train))\n"
   ]
  },
  {
   "cell_type": "code",
   "execution_count": 29,
   "metadata": {},
   "outputs": [
    {
     "name": "stdout",
     "output_type": "stream",
     "text": [
      "(1536, 50, 50, 1) (1536, 1)\n"
     ]
    }
   ],
   "source": [
    "# addup\n",
    "y_train = y_train.reshape(-1,1)\n",
    "x_train  = np.vstack((x_train,x1,x2,x3))\n",
    "x_train = x_train.reshape(-1,50,50,1)\n",
    "print(x_train.shape,y_train.shape)"
   ]
  },
  {
   "cell_type": "code",
   "execution_count": 30,
   "metadata": {},
   "outputs": [],
   "source": [
    "\n",
    "from keras.models import Sequential\n",
    "from keras.layers import Dense, Dropout, Activation, Flatten\n",
    "from keras.layers import Conv2D, MaxPooling2D, BatchNormalization\n",
    "from keras.optimizers import adam_v2\n"
   ]
  },
  {
   "cell_type": "code",
   "execution_count": 31,
   "metadata": {},
   "outputs": [
    {
     "name": "stdout",
     "output_type": "stream",
     "text": [
      "Model: \"sequential_1\"\n",
      "_________________________________________________________________\n",
      " Layer (type)                Output Shape              Param #   \n",
      "=================================================================\n",
      " conv2d_2 (Conv2D)           (None, 44, 44, 6)         300       \n",
      "                                                                 \n",
      " batch_normalization_1 (Batc  (None, 44, 44, 6)        24        \n",
      " hNormalization)                                                 \n",
      "                                                                 \n",
      " activation_1 (Activation)   (None, 44, 44, 6)         0         \n",
      "                                                                 \n",
      " max_pooling2d_1 (MaxPooling  (None, 11, 11, 6)        0         \n",
      " 2D)                                                             \n",
      "                                                                 \n",
      " conv2d_3 (Conv2D)           (None, 11, 11, 1)         7         \n",
      "                                                                 \n",
      " flatten_1 (Flatten)         (None, 121)               0         \n",
      "                                                                 \n",
      " dense_1 (Dense)             (None, 1)                 122       \n",
      "                                                                 \n",
      "=================================================================\n",
      "Total params: 453\n",
      "Trainable params: 441\n",
      "Non-trainable params: 12\n",
      "_________________________________________________________________\n"
     ]
    }
   ],
   "source": [
    "# Build CNN \n",
    "model = Sequential()\n",
    "model.add(Conv2D(6, (7, 7), input_shape=(50, 50, 1)))\n",
    "model.add(BatchNormalization())\n",
    "model.add(Activation('relu'))\n",
    "model.add(MaxPooling2D(pool_size=(4, 4), strides=(4, 4)))\n",
    "model.add(Conv2D(1, (1, 1)))\n",
    "model.add(Flatten())\n",
    "# model.add(Dense(11))\n",
    "# model.add(Dropout(0.001))\n",
    "model.add(Dense(1))\n",
    "learning_rate=0.01\n",
    "adam = adam_v2.Adam (learning_rate=learning_rate, decay=learning_rate/100)\n",
    "\n",
    "model.compile(loss='mean_squared_error', optimizer='adam' )\n",
    "\n",
    "model.summary()"
   ]
  },
  {
   "cell_type": "code",
   "execution_count": 32,
   "metadata": {},
   "outputs": [
    {
     "name": "stdout",
     "output_type": "stream",
     "text": [
      "Epoch 1/100\n",
      "32/32 - 1s - loss: 1.6481 - val_loss: 1.7678 - 561ms/epoch - 18ms/step\n",
      "Epoch 2/100\n",
      "32/32 - 0s - loss: 1.3872 - val_loss: 1.4686 - 94ms/epoch - 3ms/step\n",
      "Epoch 3/100\n",
      "32/32 - 0s - loss: 1.2380 - val_loss: 1.3365 - 93ms/epoch - 3ms/step\n",
      "Epoch 4/100\n",
      "32/32 - 0s - loss: 1.1449 - val_loss: 1.2672 - 98ms/epoch - 3ms/step\n",
      "Epoch 5/100\n",
      "32/32 - 0s - loss: 1.0788 - val_loss: 1.2224 - 99ms/epoch - 3ms/step\n",
      "Epoch 6/100\n",
      "32/32 - 0s - loss: 1.0281 - val_loss: 1.1995 - 100ms/epoch - 3ms/step\n",
      "Epoch 7/100\n",
      "32/32 - 0s - loss: 0.9910 - val_loss: 1.1835 - 97ms/epoch - 3ms/step\n",
      "Epoch 8/100\n",
      "32/32 - 0s - loss: 0.9614 - val_loss: 1.1798 - 95ms/epoch - 3ms/step\n",
      "Epoch 9/100\n",
      "32/32 - 0s - loss: 0.9355 - val_loss: 1.1689 - 91ms/epoch - 3ms/step\n",
      "Epoch 10/100\n",
      "32/32 - 0s - loss: 0.9126 - val_loss: 1.1719 - 89ms/epoch - 3ms/step\n",
      "Epoch 11/100\n",
      "32/32 - 0s - loss: 0.8954 - val_loss: 1.1751 - 90ms/epoch - 3ms/step\n",
      "Epoch 12/100\n",
      "32/32 - 0s - loss: 0.8776 - val_loss: 1.1704 - 90ms/epoch - 3ms/step\n",
      "Epoch 13/100\n",
      "32/32 - 0s - loss: 0.8617 - val_loss: 1.1759 - 99ms/epoch - 3ms/step\n",
      "Epoch 14/100\n",
      "32/32 - 0s - loss: 0.8480 - val_loss: 1.1903 - 88ms/epoch - 3ms/step\n",
      "Epoch 15/100\n",
      "32/32 - 0s - loss: 0.8372 - val_loss: 1.1917 - 102ms/epoch - 3ms/step\n",
      "Epoch 16/100\n",
      "32/32 - 0s - loss: 0.8246 - val_loss: 1.2054 - 109ms/epoch - 3ms/step\n",
      "Epoch 17/100\n",
      "32/32 - 0s - loss: 0.8151 - val_loss: 1.2115 - 97ms/epoch - 3ms/step\n",
      "Epoch 18/100\n",
      "32/32 - 0s - loss: 0.8060 - val_loss: 1.2230 - 97ms/epoch - 3ms/step\n",
      "Epoch 19/100\n",
      "32/32 - 0s - loss: 0.7954 - val_loss: 1.2374 - 99ms/epoch - 3ms/step\n",
      "Epoch 20/100\n",
      "32/32 - 0s - loss: 0.7858 - val_loss: 1.2512 - 91ms/epoch - 3ms/step\n",
      "Epoch 21/100\n",
      "32/32 - 0s - loss: 0.7758 - val_loss: 1.2653 - 100ms/epoch - 3ms/step\n",
      "Epoch 22/100\n",
      "32/32 - 0s - loss: 0.7693 - val_loss: 1.2811 - 94ms/epoch - 3ms/step\n",
      "Epoch 23/100\n",
      "32/32 - 0s - loss: 0.7608 - val_loss: 1.2877 - 86ms/epoch - 3ms/step\n",
      "Epoch 24/100\n",
      "32/32 - 0s - loss: 0.7537 - val_loss: 1.3046 - 101ms/epoch - 3ms/step\n",
      "Epoch 25/100\n",
      "32/32 - 0s - loss: 0.7431 - val_loss: 1.3248 - 96ms/epoch - 3ms/step\n",
      "Epoch 26/100\n",
      "32/32 - 0s - loss: 0.7368 - val_loss: 1.3326 - 92ms/epoch - 3ms/step\n",
      "Epoch 27/100\n",
      "32/32 - 0s - loss: 0.7283 - val_loss: 1.3459 - 96ms/epoch - 3ms/step\n",
      "Epoch 28/100\n",
      "32/32 - 0s - loss: 0.7198 - val_loss: 1.3585 - 101ms/epoch - 3ms/step\n",
      "Epoch 29/100\n",
      "32/32 - 0s - loss: 0.7120 - val_loss: 1.3821 - 88ms/epoch - 3ms/step\n",
      "Epoch 30/100\n",
      "32/32 - 0s - loss: 0.7055 - val_loss: 1.3918 - 101ms/epoch - 3ms/step\n",
      "Epoch 31/100\n",
      "32/32 - 0s - loss: 0.6998 - val_loss: 1.4091 - 94ms/epoch - 3ms/step\n",
      "Epoch 32/100\n",
      "32/32 - 0s - loss: 0.6918 - val_loss: 1.4149 - 89ms/epoch - 3ms/step\n",
      "Epoch 33/100\n",
      "32/32 - 0s - loss: 0.6869 - val_loss: 1.4206 - 91ms/epoch - 3ms/step\n",
      "Epoch 34/100\n",
      "32/32 - 0s - loss: 0.6818 - val_loss: 1.4224 - 90ms/epoch - 3ms/step\n",
      "Epoch 35/100\n",
      "32/32 - 0s - loss: 0.6753 - val_loss: 1.4381 - 90ms/epoch - 3ms/step\n",
      "Epoch 36/100\n",
      "32/32 - 0s - loss: 0.6681 - val_loss: 1.4423 - 91ms/epoch - 3ms/step\n",
      "Epoch 37/100\n",
      "32/32 - 0s - loss: 0.6647 - val_loss: 1.4397 - 93ms/epoch - 3ms/step\n",
      "Epoch 38/100\n",
      "32/32 - 0s - loss: 0.6575 - val_loss: 1.4589 - 95ms/epoch - 3ms/step\n",
      "Epoch 39/100\n",
      "32/32 - 0s - loss: 0.6523 - val_loss: 1.4725 - 93ms/epoch - 3ms/step\n",
      "Epoch 40/100\n",
      "32/32 - 0s - loss: 0.6491 - val_loss: 1.4744 - 91ms/epoch - 3ms/step\n",
      "Epoch 41/100\n",
      "32/32 - 0s - loss: 0.6453 - val_loss: 1.5016 - 91ms/epoch - 3ms/step\n",
      "Epoch 42/100\n",
      "32/32 - 0s - loss: 0.6417 - val_loss: 1.4905 - 91ms/epoch - 3ms/step\n",
      "Epoch 43/100\n",
      "32/32 - 0s - loss: 0.6343 - val_loss: 1.5057 - 90ms/epoch - 3ms/step\n",
      "Epoch 44/100\n",
      "32/32 - 0s - loss: 0.6320 - val_loss: 1.5202 - 89ms/epoch - 3ms/step\n",
      "Epoch 45/100\n",
      "32/32 - 0s - loss: 0.6263 - val_loss: 1.5276 - 91ms/epoch - 3ms/step\n",
      "Epoch 46/100\n",
      "32/32 - 0s - loss: 0.6242 - val_loss: 1.5254 - 95ms/epoch - 3ms/step\n",
      "Epoch 47/100\n",
      "32/32 - 0s - loss: 0.6203 - val_loss: 1.5352 - 91ms/epoch - 3ms/step\n",
      "Epoch 48/100\n",
      "32/32 - 0s - loss: 0.6170 - val_loss: 1.5268 - 94ms/epoch - 3ms/step\n",
      "Epoch 49/100\n",
      "32/32 - 0s - loss: 0.6151 - val_loss: 1.5270 - 90ms/epoch - 3ms/step\n",
      "Epoch 50/100\n",
      "32/32 - 0s - loss: 0.6110 - val_loss: 1.5274 - 97ms/epoch - 3ms/step\n",
      "Epoch 51/100\n",
      "32/32 - 0s - loss: 0.6079 - val_loss: 1.5360 - 93ms/epoch - 3ms/step\n",
      "Epoch 52/100\n",
      "32/32 - 0s - loss: 0.6064 - val_loss: 1.5348 - 93ms/epoch - 3ms/step\n",
      "Epoch 53/100\n",
      "32/32 - 0s - loss: 0.6027 - val_loss: 1.5437 - 93ms/epoch - 3ms/step\n",
      "Epoch 54/100\n",
      "32/32 - 0s - loss: 0.5996 - val_loss: 1.5430 - 92ms/epoch - 3ms/step\n",
      "Epoch 55/100\n",
      "32/32 - 0s - loss: 0.5956 - val_loss: 1.5424 - 92ms/epoch - 3ms/step\n",
      "Epoch 56/100\n",
      "32/32 - 0s - loss: 0.5928 - val_loss: 1.5375 - 91ms/epoch - 3ms/step\n",
      "Epoch 57/100\n",
      "32/32 - 0s - loss: 0.5926 - val_loss: 1.5319 - 92ms/epoch - 3ms/step\n",
      "Epoch 58/100\n",
      "32/32 - 0s - loss: 0.5896 - val_loss: 1.5507 - 91ms/epoch - 3ms/step\n",
      "Epoch 59/100\n",
      "32/32 - 0s - loss: 0.5884 - val_loss: 1.5398 - 92ms/epoch - 3ms/step\n",
      "Epoch 60/100\n",
      "32/32 - 0s - loss: 0.5845 - val_loss: 1.5448 - 94ms/epoch - 3ms/step\n",
      "Epoch 61/100\n",
      "32/32 - 0s - loss: 0.5832 - val_loss: 1.5396 - 94ms/epoch - 3ms/step\n",
      "Epoch 62/100\n",
      "32/32 - 0s - loss: 0.5814 - val_loss: 1.5404 - 107ms/epoch - 3ms/step\n",
      "Epoch 63/100\n",
      "32/32 - 0s - loss: 0.5813 - val_loss: 1.5540 - 90ms/epoch - 3ms/step\n",
      "Epoch 64/100\n",
      "32/32 - 0s - loss: 0.5794 - val_loss: 1.5543 - 93ms/epoch - 3ms/step\n",
      "Epoch 65/100\n",
      "32/32 - 0s - loss: 0.5766 - val_loss: 1.5399 - 89ms/epoch - 3ms/step\n",
      "Epoch 66/100\n",
      "32/32 - 0s - loss: 0.5746 - val_loss: 1.5447 - 89ms/epoch - 3ms/step\n",
      "Epoch 67/100\n",
      "32/32 - 0s - loss: 0.5755 - val_loss: 1.5521 - 92ms/epoch - 3ms/step\n",
      "Epoch 68/100\n",
      "32/32 - 0s - loss: 0.5705 - val_loss: 1.5586 - 93ms/epoch - 3ms/step\n",
      "Epoch 69/100\n",
      "32/32 - 0s - loss: 0.5712 - val_loss: 1.5640 - 94ms/epoch - 3ms/step\n",
      "Epoch 70/100\n",
      "32/32 - 0s - loss: 0.5682 - val_loss: 1.5600 - 94ms/epoch - 3ms/step\n",
      "Epoch 71/100\n",
      "32/32 - 0s - loss: 0.5680 - val_loss: 1.5767 - 91ms/epoch - 3ms/step\n",
      "Epoch 72/100\n",
      "32/32 - 0s - loss: 0.5664 - val_loss: 1.5529 - 91ms/epoch - 3ms/step\n",
      "Epoch 73/100\n",
      "32/32 - 0s - loss: 0.5660 - val_loss: 1.5647 - 90ms/epoch - 3ms/step\n",
      "Epoch 74/100\n",
      "32/32 - 0s - loss: 0.5654 - val_loss: 1.5613 - 88ms/epoch - 3ms/step\n",
      "Epoch 75/100\n",
      "32/32 - 0s - loss: 0.5637 - val_loss: 1.5676 - 93ms/epoch - 3ms/step\n",
      "Epoch 76/100\n",
      "32/32 - 0s - loss: 0.5639 - val_loss: 1.5685 - 88ms/epoch - 3ms/step\n",
      "Epoch 77/100\n",
      "32/32 - 0s - loss: 0.5627 - val_loss: 1.5513 - 87ms/epoch - 3ms/step\n",
      "Epoch 78/100\n",
      "32/32 - 0s - loss: 0.5624 - val_loss: 1.5456 - 89ms/epoch - 3ms/step\n",
      "Epoch 79/100\n",
      "32/32 - 0s - loss: 0.5629 - val_loss: 1.5532 - 93ms/epoch - 3ms/step\n",
      "Epoch 80/100\n",
      "32/32 - 0s - loss: 0.5613 - val_loss: 1.5512 - 92ms/epoch - 3ms/step\n",
      "Epoch 81/100\n",
      "32/32 - 0s - loss: 0.5608 - val_loss: 1.5562 - 92ms/epoch - 3ms/step\n",
      "Epoch 82/100\n",
      "32/32 - 0s - loss: 0.5588 - val_loss: 1.5519 - 88ms/epoch - 3ms/step\n",
      "Epoch 83/100\n",
      "32/32 - 0s - loss: 0.5577 - val_loss: 1.5432 - 91ms/epoch - 3ms/step\n",
      "Epoch 84/100\n",
      "32/32 - 0s - loss: 0.5560 - val_loss: 1.5370 - 91ms/epoch - 3ms/step\n",
      "Epoch 85/100\n",
      "32/32 - 0s - loss: 0.5548 - val_loss: 1.5420 - 91ms/epoch - 3ms/step\n",
      "Epoch 86/100\n",
      "32/32 - 0s - loss: 0.5559 - val_loss: 1.5405 - 89ms/epoch - 3ms/step\n",
      "Epoch 87/100\n",
      "32/32 - 0s - loss: 0.5540 - val_loss: 1.5365 - 97ms/epoch - 3ms/step\n",
      "Epoch 88/100\n",
      "32/32 - 0s - loss: 0.5563 - val_loss: 1.5347 - 95ms/epoch - 3ms/step\n",
      "Epoch 89/100\n",
      "32/32 - 0s - loss: 0.5535 - val_loss: 1.5521 - 100ms/epoch - 3ms/step\n",
      "Epoch 90/100\n",
      "32/32 - 0s - loss: 0.5531 - val_loss: 1.5258 - 96ms/epoch - 3ms/step\n",
      "Epoch 91/100\n",
      "32/32 - 0s - loss: 0.5505 - val_loss: 1.5341 - 98ms/epoch - 3ms/step\n",
      "Epoch 92/100\n",
      "32/32 - 0s - loss: 0.5501 - val_loss: 1.5339 - 94ms/epoch - 3ms/step\n",
      "Epoch 93/100\n",
      "32/32 - 0s - loss: 0.5499 - val_loss: 1.5420 - 91ms/epoch - 3ms/step\n",
      "Epoch 94/100\n",
      "32/32 - 0s - loss: 0.5476 - val_loss: 1.5366 - 89ms/epoch - 3ms/step\n",
      "Epoch 95/100\n",
      "32/32 - 0s - loss: 0.5501 - val_loss: 1.5408 - 94ms/epoch - 3ms/step\n",
      "Epoch 96/100\n",
      "32/32 - 0s - loss: 0.5494 - val_loss: 1.5426 - 94ms/epoch - 3ms/step\n",
      "Epoch 97/100\n",
      "32/32 - 0s - loss: 0.5492 - val_loss: 1.5367 - 88ms/epoch - 3ms/step\n",
      "Epoch 98/100\n",
      "32/32 - 0s - loss: 0.5481 - val_loss: 1.5396 - 91ms/epoch - 3ms/step\n",
      "Epoch 99/100\n",
      "32/32 - 0s - loss: 0.5487 - val_loss: 1.5411 - 91ms/epoch - 3ms/step\n",
      "Epoch 100/100\n",
      "32/32 - 0s - loss: 0.5463 - val_loss: 1.5419 - 90ms/epoch - 3ms/step\n"
     ]
    }
   ],
   "source": [
    "# Train CNN\n",
    "history = model.fit(x_train, y_train,\n",
    "          batch_size=48,\n",
    "          epochs=100,\n",
    "          verbose=2,\n",
    "          shuffle= True,\n",
    "          validation_data= (x_validation,y_validation),\n",
    "          validation_freq=1\n",
    "            \n",
    "          )"
   ]
  },
  {
   "cell_type": "code",
   "execution_count": 33,
   "metadata": {},
   "outputs": [
    {
     "data": {
      "text/plain": [
       "<matplotlib.legend.Legend at 0x2586b312370>"
      ]
     },
     "execution_count": 33,
     "metadata": {},
     "output_type": "execute_result"
    },
    {
     "data": {
      "image/png": "[encoded data removed]",
      "text/plain": [
       "<Figure size 432x288 with 1 Axes>"
      ]
     },
     "metadata": {
      "needs_background": "light"
     },
     "output_type": "display_data"
    }
   ],
   "source": [
    "# Plot the training history\n",
    "import matplotlib.pyplot as plt\n",
    "plt.plot(history.history['loss'], label='loss')\n",
    "plt.plot(history.history['val_loss'], label = 'val_loss')\n",
    "plt.xlabel('Epoch')\n",
    "plt.ylabel('loss')\n",
    "plt.ylim([0, 5])\n",
    "plt.legend(loc='lower right')"
   ]
  },
  {
   "cell_type": "code",
   "execution_count": 34,
   "metadata": {},
   "outputs": [
    {
     "name": "stdout",
     "output_type": "stream",
     "text": [
      "dict_keys(['__header__', '__version__', '__globals__', 'Y'])\n",
      "dict_keys(['__header__', '__version__', '__globals__', 'Images', 'Y', 'None', 'num_images', 'padding', 'predictedY_train', 'predictedY_validation', 'siz', 'trainY', 'validationY', '__function_workspace__'])\n"
     ]
    },
    {
     "name": "stderr",
     "output_type": "stream",
     "text": [
      "d:\\Anaconda\\lib\\site-packages\\scipy\\io\\matlab\\mio.py:226: MatReadWarning: Duplicate variable name \"None\" in stream - replacing previous with new\n",
      "Consider mio5.varmats_from_mat to split file into single variable files\n",
      "  matfile_dict = MR.get_variables(variable_names)\n"
     ]
    }
   ],
   "source": [
    "# import test data\n",
    "Ytest = loadmat('D:/Final_project/matlab_code/Data/data-test.mat')\n",
    "Xtest = loadmat('D:/Final_project/matlab_code/Data/testImages.mat')\n",
    "print(Ytest.keys())\n",
    "print(Xtest.keys())\n",
    "\n",
    "x_test = Xtest['Images']\n",
    "y_test = Ytest['Y']\n",
    "\n",
    "# Normalize test data\n",
    "y_test = y_test.reshape(-1,)\n",
    "y_test = (y_test-np.mean(y_test))/np.std(y_test)\n",
    "\n",
    "x_test = x_test.reshape(-1,50,50,1)\n",
    "y_test = y_test.reshape(-1,1)"
   ]
  },
  {
   "cell_type": "code",
   "execution_count": 35,
   "metadata": {},
   "outputs": [
    {
     "name": "stdout",
     "output_type": "stream",
     "text": [
      "4/4 - 0s - loss: 1.5419 - 67ms/epoch - 17ms/step\n",
      "Test loss: 1.5419135093688965\n"
     ]
    }
   ],
   "source": [
    "score = model.evaluate(x_validation, y_validation, verbose=2)\n",
    "print('Test loss:', score)"
   ]
  },
  {
   "cell_type": "code",
   "execution_count": 36,
   "metadata": {},
   "outputs": [
    {
     "name": "stdout",
     "output_type": "stream",
     "text": [
      "r2 score for training is 0.4771546401127642\n"
     ]
    },
    {
     "data": {
      "image/png": "[encoded data removed]",
      "text/plain": [
       "<Figure size 432x288 with 1 Axes>"
      ]
     },
     "metadata": {
      "needs_background": "light"
     },
     "output_type": "display_data"
    },
    {
     "name": "stdout",
     "output_type": "stream",
     "text": [
      "r2 score for validation is -0.5536024493291101\n"
     ]
    },
    {
     "data": {
      "image/png": "[encoded data removed]",
      "text/plain": [
       "<Figure size 432x288 with 1 Axes>"
      ]
     },
     "metadata": {
      "needs_background": "light"
     },
     "output_type": "display_data"
    },
    {
     "name": "stdout",
     "output_type": "stream",
     "text": [
      "r2 score for test is -0.779730696474692\n"
     ]
    },
    {
     "data": {
      "image/png": "[encoded data removed]",
      "text/plain": [
       "<Figure size 432x288 with 1 Axes>"
      ]
     },
     "metadata": {
      "needs_background": "light"
     },
     "output_type": "display_data"
    }
   ],
   "source": [
    "# plot training fit\n",
    "y_pred_train = model.predict(x_train)\n",
    "r2 = r2_score(y_train, y_pred_train)\n",
    "print('r2 score for training is', r2)\n",
    "\n",
    "y_pred_train = y_pred_train.reshape(-1,)\n",
    "y_train= y_train.reshape(-1,)\n",
    "plt.scatter(y_train,y_pred_train)\n",
    "plt.xlabel('Actual Strain Energy')\n",
    "plt.ylabel('Predicted Strain Energy')\n",
    "\n",
    "plt.plot(np.unique(y_train), np.poly1d(np.polyfit(y_train, y_pred_train, 1))(np.unique(y_train)))\n",
    "\n",
    "plt.text(0.6, 0.5, 'R-squared = %0.2f' % r2)\n",
    "plt.axis([-4, 4, -4, 4])\n",
    "plt.show()\n",
    "\n",
    "# plot validation fit\n",
    "y_pred_validation = model.predict(x_validation)\n",
    "r2 = r2_score(y_validation, y_pred_validation)\n",
    "print('r2 score for validation is', r2)\n",
    "\n",
    "y_pred_validation = y_pred_validation.reshape(-1,)\n",
    "y_validation= y_validation.reshape(-1,)\n",
    "plt.scatter(y_validation,y_pred_validation)\n",
    "plt.xlabel('Actual Strain Energy')\n",
    "plt.ylabel('Predicted Strain Energy')\n",
    "\n",
    "plt.plot(np.unique(y_validation), np.poly1d(np.polyfit(y_validation, y_pred_validation, 1))(np.unique(y_validation)))\n",
    "\n",
    "plt.text(0.6, 0.5, 'R-squared = %0.2f' % r2)\n",
    "plt.axis([-4, 4, -4, 4])\n",
    "plt.show()\n",
    "\n",
    "# plot test fit\n",
    "from sklearn.metrics import r2_score\n",
    "y_pred = model.predict(x_test)\n",
    "r2 = r2_score(y_test, y_pred)\n",
    "print('r2 score for test is', r2)\n",
    "\n",
    "y_pred = y_pred.reshape(-1,)\n",
    "y_test = y_test.reshape(-1,)\n",
    "plt.scatter(y_test,y_pred)\n",
    "plt.xlabel('Actual Strain Energy')\n",
    "plt.ylabel('Predicted Strain Energy')\n",
    "\n",
    "plt.plot(np.unique(y_test), np.poly1d(np.polyfit(y_test, y_pred, 1))(np.unique(y_test)))\n",
    "\n",
    "plt.text(0.6, 0.5, 'R-squared = %0.2f' % r2)\n",
    "plt.axis([-4, 4, -4, 4])\n",
    "plt.show()"
   ]
  },
  {
   "cell_type": "code",
   "execution_count": null,
   "metadata": {},
   "outputs": [],
   "source": []
  }
 ],
 "metadata": {
  "kernelspec": {
   "display_name": "Python 3.9.7 ('base')",
   "language": "python",
   "name": "python3"
  },
  "language_info": {
   "codemirror_mode": {
    "name": "ipython",
    "version": 3
   },
   "file_extension": ".py",
   "mimetype": "text/x-python",
   "name": "python",
   "nbconvert_exporter": "python",
   "pygments_lexer": "ipython3",
   "version": "3.9.7"
  },
  "orig_nbformat": 4,
  "vscode": {
   "interpreter": {
    "hash": "88279d2366fe020547cde40dd65aa0e3aa662a6ec1f3ca12d88834876c85e1a6"
   }
  }
 },
 "nbformat": 4,
 "nbformat_minor": 2
}
