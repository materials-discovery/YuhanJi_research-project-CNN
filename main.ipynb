{
 "cells": [
  {
   "cell_type": "code",
   "execution_count": 1,
   "metadata": {},
   "outputs": [
    {
     "name": "stdout",
     "output_type": "stream",
     "text": [
      "dict_keys(['__header__', '__version__', '__globals__', 'Images', 'num_images', 'padding', 'siz'])\n",
      "dict_keys(['__header__', '__version__', '__globals__', 'Y'])\n",
      "(50, 50, 1, 512) (512,)\n"
     ]
    }
   ],
   "source": [
    "from scipy.io import loadmat\n",
    "import numpy as np\n",
    "# Import training data\n",
    "Y = loadmat('D:/Final_project/matlab_code/Data/data-training.mat')\n",
    "X = loadmat('D:/Final_project/matlab_code/Data/trainingImages.mat')\n",
    "\n",
    "print(X.keys())\n",
    "print(Y.keys())\n",
    "x_train=X['Images']\n",
    "y_train = Y['Y']\n",
    "y_train = y_train.reshape(-1,)\n",
    "# print(x_train)\n",
    "# print(y_train)\n",
    "print(x_train.shape,y_train.shape)"
   ]
  },
  {
   "cell_type": "code",
   "execution_count": 2,
   "metadata": {},
   "outputs": [],
   "source": [
    "# Data normalization\n",
    "y_train = (y_train-np.mean(y_train))/np.std(y_train)"
   ]
  },
  {
   "cell_type": "code",
   "execution_count": 3,
   "metadata": {},
   "outputs": [
    {
     "name": "stdout",
     "output_type": "stream",
     "text": [
      "(50, 50, 384) (384,)\n"
     ]
    }
   ],
   "source": [
    "\n",
    "from sklearn.model_selection import train_test_split\n",
    "\n",
    "x_train = x_train.reshape(-1,50,50,1)\n",
    "x_train, x_validation, y_train, y_validation = train_test_split ( x_train, y_train, shuffle=True,random_state =1, test_size = 0.25 )\n",
    "\n",
    "x_train = x_train.reshape(50,50,384)\n",
    "print(x_train.shape,y_train.shape)"
   ]
  },
  {
   "cell_type": "code",
   "execution_count": 4,
   "metadata": {},
   "outputs": [],
   "source": [
    "# Flip\n",
    "x1 = np.flip(x_train,2)"
   ]
  },
  {
   "cell_type": "code",
   "execution_count": 5,
   "metadata": {},
   "outputs": [],
   "source": [
    "# Rotate 180\n",
    "x2 = np.rot90(x_train,2, (1,2))"
   ]
  },
  {
   "cell_type": "code",
   "execution_count": 6,
   "metadata": {},
   "outputs": [],
   "source": [
    "# flip Rotate 180\n",
    "x3 = np.rot90(x1 ,2, (1,2))"
   ]
  },
  {
   "cell_type": "code",
   "execution_count": 7,
   "metadata": {},
   "outputs": [],
   "source": [
    "# reshape\n",
    "x3 = x3.reshape(-1,50,50,)\n",
    "x1 = x1.reshape(-1,50,50,)\n",
    "x2 = x2.reshape(-1,50,50,)\n",
    "x_train = x_train.reshape(-1,50,50,)"
   ]
  },
  {
   "cell_type": "code",
   "execution_count": 8,
   "metadata": {},
   "outputs": [],
   "source": [
    "# repeat y_train 4 times\n",
    "y_train = np.hstack((y_train,y_train,y_train,y_train))\n"
   ]
  },
  {
   "cell_type": "code",
   "execution_count": 9,
   "metadata": {},
   "outputs": [
    {
     "name": "stdout",
     "output_type": "stream",
     "text": [
      "(1536, 50, 50, 1) (1536, 1)\n"
     ]
    }
   ],
   "source": [
    "# addup\n",
    "y_train = y_train.reshape(-1,1)\n",
    "x_train  = np.vstack((x_train,x1,x2,x3))\n",
    "x_train = x_train.reshape(-1,50,50,1)\n",
    "print(x_train.shape,y_train.shape)"
   ]
  },
  {
   "cell_type": "code",
   "execution_count": 10,
   "metadata": {},
   "outputs": [],
   "source": [
    "\n",
    "from keras.models import Sequential\n",
    "from keras.layers import Dense, Dropout, Activation, Flatten\n",
    "from keras.layers import Conv2D, MaxPooling2D, BatchNormalization\n",
    "from keras.optimizers import adam_v2\n"
   ]
  },
  {
   "cell_type": "code",
   "execution_count": 11,
   "metadata": {},
   "outputs": [
    {
     "name": "stdout",
     "output_type": "stream",
     "text": [
      "Model: \"sequential\"\n",
      "_________________________________________________________________\n",
      " Layer (type)                Output Shape              Param #   \n",
      "=================================================================\n",
      " conv2d (Conv2D)             (None, 44, 44, 6)         300       \n",
      "                                                                 \n",
      " batch_normalization (BatchN  (None, 44, 44, 6)        24        \n",
      " ormalization)                                                   \n",
      "                                                                 \n",
      " activation (Activation)     (None, 44, 44, 6)         0         \n",
      "                                                                 \n",
      " max_pooling2d (MaxPooling2D  (None, 11, 11, 6)        0         \n",
      " )                                                               \n",
      "                                                                 \n",
      " conv2d_1 (Conv2D)           (None, 11, 11, 1)         7         \n",
      "                                                                 \n",
      " flatten (Flatten)           (None, 121)               0         \n",
      "                                                                 \n",
      " dense (Dense)               (None, 1)                 122       \n",
      "                                                                 \n",
      "=================================================================\n",
      "Total params: 453\n",
      "Trainable params: 441\n",
      "Non-trainable params: 12\n",
      "_________________________________________________________________\n"
     ]
    }
   ],
   "source": [
    "# Build CNN \n",
    "model = Sequential()\n",
    "model.add(Conv2D(6, (7, 7), input_shape=(50, 50, 1)))\n",
    "model.add(BatchNormalization())\n",
    "model.add(Activation('relu'))\n",
    "model.add(MaxPooling2D(pool_size=(4, 4), strides=(4, 4)))\n",
    "model.add(Conv2D(1, (1, 1)))\n",
    "model.add(Flatten())\n",
    "# model.add(Dense(11))\n",
    "# model.add(Dropout(0.001))\n",
    "model.add(Dense(1))\n",
    "learning_rate=0.01\n",
    "adam = adam_v2.Adam (learning_rate=learning_rate, decay=learning_rate/100)\n",
    "\n",
    "model.compile(loss='mean_squared_error', optimizer='adam' )\n",
    "\n",
    "model.summary()"
   ]
  },
  {
   "cell_type": "code",
   "execution_count": 12,
   "metadata": {},
   "outputs": [
    {
     "name": "stdout",
     "output_type": "stream",
     "text": [
      "Epoch 1/100\n",
      "32/32 - 3s - loss: 2.7283 - val_loss: 4.0685 - 3s/epoch - 92ms/step\n",
      "Epoch 2/100\n",
      "32/32 - 0s - loss: 1.9849 - val_loss: 2.7678 - 92ms/epoch - 3ms/step\n",
      "Epoch 3/100\n",
      "32/32 - 0s - loss: 1.6758 - val_loss: 2.2250 - 84ms/epoch - 3ms/step\n",
      "Epoch 4/100\n",
      "32/32 - 0s - loss: 1.4970 - val_loss: 1.9340 - 83ms/epoch - 3ms/step\n",
      "Epoch 5/100\n",
      "32/32 - 0s - loss: 1.3736 - val_loss: 1.7461 - 88ms/epoch - 3ms/step\n",
      "Epoch 6/100\n",
      "32/32 - 0s - loss: 1.2822 - val_loss: 1.6516 - 88ms/epoch - 3ms/step\n",
      "Epoch 7/100\n",
      "32/32 - 0s - loss: 1.2067 - val_loss: 1.5609 - 89ms/epoch - 3ms/step\n",
      "Epoch 8/100\n",
      "32/32 - 0s - loss: 1.1479 - val_loss: 1.5023 - 90ms/epoch - 3ms/step\n",
      "Epoch 9/100\n",
      "32/32 - 0s - loss: 1.1036 - val_loss: 1.4857 - 84ms/epoch - 3ms/step\n",
      "Epoch 10/100\n",
      "32/32 - 0s - loss: 1.0697 - val_loss: 1.4399 - 78ms/epoch - 2ms/step\n",
      "Epoch 11/100\n",
      "32/32 - 0s - loss: 1.0373 - val_loss: 1.4167 - 91ms/epoch - 3ms/step\n",
      "Epoch 12/100\n",
      "32/32 - 0s - loss: 1.0123 - val_loss: 1.4063 - 81ms/epoch - 3ms/step\n",
      "Epoch 13/100\n",
      "32/32 - 0s - loss: 0.9892 - val_loss: 1.3679 - 84ms/epoch - 3ms/step\n",
      "Epoch 14/100\n",
      "32/32 - 0s - loss: 0.9715 - val_loss: 1.3544 - 77ms/epoch - 2ms/step\n",
      "Epoch 15/100\n",
      "32/32 - 0s - loss: 0.9497 - val_loss: 1.3510 - 81ms/epoch - 3ms/step\n",
      "Epoch 16/100\n",
      "32/32 - 0s - loss: 0.9352 - val_loss: 1.3440 - 90ms/epoch - 3ms/step\n",
      "Epoch 17/100\n",
      "32/32 - 0s - loss: 0.9164 - val_loss: 1.3393 - 81ms/epoch - 3ms/step\n",
      "Epoch 18/100\n",
      "32/32 - 0s - loss: 0.9029 - val_loss: 1.3408 - 110ms/epoch - 3ms/step\n",
      "Epoch 19/100\n",
      "32/32 - 0s - loss: 0.8962 - val_loss: 1.3401 - 100ms/epoch - 3ms/step\n",
      "Epoch 20/100\n",
      "32/32 - 0s - loss: 0.8816 - val_loss: 1.3379 - 93ms/epoch - 3ms/step\n",
      "Epoch 21/100\n",
      "32/32 - 0s - loss: 0.8718 - val_loss: 1.3297 - 92ms/epoch - 3ms/step\n",
      "Epoch 22/100\n",
      "32/32 - 0s - loss: 0.8611 - val_loss: 1.3374 - 79ms/epoch - 2ms/step\n",
      "Epoch 23/100\n",
      "32/32 - 0s - loss: 0.8632 - val_loss: 1.3448 - 80ms/epoch - 2ms/step\n",
      "Epoch 24/100\n",
      "32/32 - 0s - loss: 0.8567 - val_loss: 1.3270 - 88ms/epoch - 3ms/step\n",
      "Epoch 25/100\n",
      "32/32 - 0s - loss: 0.8472 - val_loss: 1.3253 - 84ms/epoch - 3ms/step\n",
      "Epoch 26/100\n",
      "32/32 - 0s - loss: 0.8380 - val_loss: 1.3186 - 86ms/epoch - 3ms/step\n",
      "Epoch 27/100\n",
      "32/32 - 0s - loss: 0.8297 - val_loss: 1.3180 - 96ms/epoch - 3ms/step\n",
      "Epoch 28/100\n",
      "32/32 - 0s - loss: 0.8283 - val_loss: 1.3363 - 80ms/epoch - 3ms/step\n",
      "Epoch 29/100\n",
      "32/32 - 0s - loss: 0.8212 - val_loss: 1.3227 - 92ms/epoch - 3ms/step\n",
      "Epoch 30/100\n",
      "32/32 - 0s - loss: 0.8183 - val_loss: 1.3271 - 90ms/epoch - 3ms/step\n",
      "Epoch 31/100\n",
      "32/32 - 0s - loss: 0.8113 - val_loss: 1.3252 - 85ms/epoch - 3ms/step\n",
      "Epoch 32/100\n",
      "32/32 - 0s - loss: 0.8043 - val_loss: 1.3304 - 84ms/epoch - 3ms/step\n",
      "Epoch 33/100\n",
      "32/32 - 0s - loss: 0.7982 - val_loss: 1.3173 - 83ms/epoch - 3ms/step\n",
      "Epoch 34/100\n",
      "32/32 - 0s - loss: 0.7936 - val_loss: 1.3291 - 91ms/epoch - 3ms/step\n",
      "Epoch 35/100\n",
      "32/32 - 0s - loss: 0.7889 - val_loss: 1.3124 - 89ms/epoch - 3ms/step\n",
      "Epoch 36/100\n",
      "32/32 - 0s - loss: 0.7843 - val_loss: 1.3098 - 80ms/epoch - 3ms/step\n",
      "Epoch 37/100\n",
      "32/32 - 0s - loss: 0.7792 - val_loss: 1.3045 - 84ms/epoch - 3ms/step\n",
      "Epoch 38/100\n",
      "32/32 - 0s - loss: 0.7734 - val_loss: 1.3100 - 81ms/epoch - 3ms/step\n",
      "Epoch 39/100\n",
      "32/32 - 0s - loss: 0.7673 - val_loss: 1.3068 - 76ms/epoch - 2ms/step\n",
      "Epoch 40/100\n",
      "32/32 - 0s - loss: 0.7651 - val_loss: 1.2974 - 77ms/epoch - 2ms/step\n",
      "Epoch 41/100\n",
      "32/32 - 0s - loss: 0.7604 - val_loss: 1.2906 - 83ms/epoch - 3ms/step\n",
      "Epoch 42/100\n",
      "32/32 - 0s - loss: 0.7628 - val_loss: 1.2826 - 78ms/epoch - 2ms/step\n",
      "Epoch 43/100\n",
      "32/32 - 0s - loss: 0.7518 - val_loss: 1.2804 - 78ms/epoch - 2ms/step\n",
      "Epoch 44/100\n",
      "32/32 - 0s - loss: 0.7485 - val_loss: 1.2769 - 79ms/epoch - 2ms/step\n",
      "Epoch 45/100\n",
      "32/32 - 0s - loss: 0.7461 - val_loss: 1.2727 - 77ms/epoch - 2ms/step\n",
      "Epoch 46/100\n",
      "32/32 - 0s - loss: 0.7402 - val_loss: 1.2853 - 82ms/epoch - 3ms/step\n",
      "Epoch 47/100\n",
      "32/32 - 0s - loss: 0.7360 - val_loss: 1.2736 - 85ms/epoch - 3ms/step\n",
      "Epoch 48/100\n",
      "32/32 - 0s - loss: 0.7326 - val_loss: 1.2852 - 87ms/epoch - 3ms/step\n",
      "Epoch 49/100\n",
      "32/32 - 0s - loss: 0.7294 - val_loss: 1.2851 - 88ms/epoch - 3ms/step\n",
      "Epoch 50/100\n",
      "32/32 - 0s - loss: 0.7255 - val_loss: 1.2826 - 89ms/epoch - 3ms/step\n",
      "Epoch 51/100\n",
      "32/32 - 0s - loss: 0.7233 - val_loss: 1.2884 - 88ms/epoch - 3ms/step\n",
      "Epoch 52/100\n",
      "32/32 - 0s - loss: 0.7200 - val_loss: 1.2878 - 77ms/epoch - 2ms/step\n",
      "Epoch 53/100\n",
      "32/32 - 0s - loss: 0.7167 - val_loss: 1.2760 - 82ms/epoch - 3ms/step\n",
      "Epoch 54/100\n",
      "32/32 - 0s - loss: 0.7141 - val_loss: 1.2842 - 82ms/epoch - 3ms/step\n",
      "Epoch 55/100\n",
      "32/32 - 0s - loss: 0.7105 - val_loss: 1.2736 - 82ms/epoch - 3ms/step\n",
      "Epoch 56/100\n",
      "32/32 - 0s - loss: 0.7071 - val_loss: 1.2810 - 82ms/epoch - 3ms/step\n",
      "Epoch 57/100\n",
      "32/32 - 0s - loss: 0.7048 - val_loss: 1.2828 - 79ms/epoch - 2ms/step\n",
      "Epoch 58/100\n",
      "32/32 - 0s - loss: 0.7018 - val_loss: 1.2781 - 80ms/epoch - 2ms/step\n",
      "Epoch 59/100\n",
      "32/32 - 0s - loss: 0.6979 - val_loss: 1.2806 - 93ms/epoch - 3ms/step\n",
      "Epoch 60/100\n",
      "32/32 - 0s - loss: 0.6962 - val_loss: 1.2770 - 89ms/epoch - 3ms/step\n",
      "Epoch 61/100\n",
      "32/32 - 0s - loss: 0.6966 - val_loss: 1.2921 - 82ms/epoch - 3ms/step\n",
      "Epoch 62/100\n",
      "32/32 - 0s - loss: 0.6923 - val_loss: 1.2794 - 84ms/epoch - 3ms/step\n",
      "Epoch 63/100\n",
      "32/32 - 0s - loss: 0.6891 - val_loss: 1.2998 - 86ms/epoch - 3ms/step\n",
      "Epoch 64/100\n",
      "32/32 - 0s - loss: 0.6877 - val_loss: 1.2887 - 86ms/epoch - 3ms/step\n",
      "Epoch 65/100\n",
      "32/32 - 0s - loss: 0.6842 - val_loss: 1.2906 - 84ms/epoch - 3ms/step\n",
      "Epoch 66/100\n",
      "32/32 - 0s - loss: 0.6834 - val_loss: 1.3008 - 86ms/epoch - 3ms/step\n",
      "Epoch 67/100\n",
      "32/32 - 0s - loss: 0.6773 - val_loss: 1.3080 - 85ms/epoch - 3ms/step\n",
      "Epoch 68/100\n",
      "32/32 - 0s - loss: 0.6746 - val_loss: 1.2945 - 84ms/epoch - 3ms/step\n",
      "Epoch 69/100\n",
      "32/32 - 0s - loss: 0.6745 - val_loss: 1.2956 - 88ms/epoch - 3ms/step\n",
      "Epoch 70/100\n",
      "32/32 - 0s - loss: 0.6726 - val_loss: 1.3028 - 86ms/epoch - 3ms/step\n",
      "Epoch 71/100\n",
      "32/32 - 0s - loss: 0.6686 - val_loss: 1.3175 - 85ms/epoch - 3ms/step\n",
      "Epoch 72/100\n",
      "32/32 - 0s - loss: 0.6639 - val_loss: 1.3223 - 87ms/epoch - 3ms/step\n",
      "Epoch 73/100\n",
      "32/32 - 0s - loss: 0.6610 - val_loss: 1.3337 - 92ms/epoch - 3ms/step\n",
      "Epoch 74/100\n",
      "32/32 - 0s - loss: 0.6589 - val_loss: 1.3366 - 89ms/epoch - 3ms/step\n",
      "Epoch 75/100\n",
      "32/32 - 0s - loss: 0.6592 - val_loss: 1.3361 - 123ms/epoch - 4ms/step\n",
      "Epoch 76/100\n",
      "32/32 - 0s - loss: 0.6562 - val_loss: 1.3371 - 137ms/epoch - 4ms/step\n",
      "Epoch 77/100\n",
      "32/32 - 0s - loss: 0.6506 - val_loss: 1.3301 - 109ms/epoch - 3ms/step\n",
      "Epoch 78/100\n",
      "32/32 - 0s - loss: 0.6489 - val_loss: 1.3424 - 99ms/epoch - 3ms/step\n",
      "Epoch 79/100\n",
      "32/32 - 0s - loss: 0.6487 - val_loss: 1.3468 - 99ms/epoch - 3ms/step\n",
      "Epoch 80/100\n",
      "32/32 - 0s - loss: 0.6435 - val_loss: 1.3489 - 96ms/epoch - 3ms/step\n",
      "Epoch 81/100\n",
      "32/32 - 0s - loss: 0.6406 - val_loss: 1.3643 - 91ms/epoch - 3ms/step\n",
      "Epoch 82/100\n",
      "32/32 - 0s - loss: 0.6394 - val_loss: 1.3745 - 105ms/epoch - 3ms/step\n",
      "Epoch 83/100\n",
      "32/32 - 0s - loss: 0.6382 - val_loss: 1.3815 - 96ms/epoch - 3ms/step\n",
      "Epoch 84/100\n",
      "32/32 - 0s - loss: 0.6342 - val_loss: 1.3596 - 84ms/epoch - 3ms/step\n",
      "Epoch 85/100\n",
      "32/32 - 0s - loss: 0.6324 - val_loss: 1.3895 - 85ms/epoch - 3ms/step\n",
      "Epoch 86/100\n",
      "32/32 - 0s - loss: 0.6292 - val_loss: 1.3874 - 81ms/epoch - 3ms/step\n",
      "Epoch 87/100\n",
      "32/32 - 0s - loss: 0.6284 - val_loss: 1.3870 - 83ms/epoch - 3ms/step\n",
      "Epoch 88/100\n",
      "32/32 - 0s - loss: 0.6249 - val_loss: 1.3795 - 84ms/epoch - 3ms/step\n",
      "Epoch 89/100\n",
      "32/32 - 0s - loss: 0.6238 - val_loss: 1.3798 - 87ms/epoch - 3ms/step\n",
      "Epoch 90/100\n",
      "32/32 - 0s - loss: 0.6204 - val_loss: 1.3799 - 80ms/epoch - 3ms/step\n",
      "Epoch 91/100\n",
      "32/32 - 0s - loss: 0.6195 - val_loss: 1.3843 - 80ms/epoch - 2ms/step\n",
      "Epoch 92/100\n",
      "32/32 - 0s - loss: 0.6191 - val_loss: 1.3947 - 85ms/epoch - 3ms/step\n",
      "Epoch 93/100\n",
      "32/32 - 0s - loss: 0.6170 - val_loss: 1.3771 - 88ms/epoch - 3ms/step\n",
      "Epoch 94/100\n",
      "32/32 - 0s - loss: 0.6137 - val_loss: 1.3937 - 88ms/epoch - 3ms/step\n",
      "Epoch 95/100\n",
      "32/32 - 0s - loss: 0.6122 - val_loss: 1.3825 - 88ms/epoch - 3ms/step\n",
      "Epoch 96/100\n",
      "32/32 - 0s - loss: 0.6104 - val_loss: 1.3913 - 81ms/epoch - 3ms/step\n",
      "Epoch 97/100\n",
      "32/32 - 0s - loss: 0.6126 - val_loss: 1.3882 - 80ms/epoch - 2ms/step\n",
      "Epoch 98/100\n",
      "32/32 - 0s - loss: 0.6100 - val_loss: 1.3849 - 83ms/epoch - 3ms/step\n",
      "Epoch 99/100\n",
      "32/32 - 0s - loss: 0.6079 - val_loss: 1.3804 - 82ms/epoch - 3ms/step\n",
      "Epoch 100/100\n",
      "32/32 - 0s - loss: 0.6047 - val_loss: 1.3934 - 77ms/epoch - 2ms/step\n"
     ]
    }
   ],
   "source": [
    "# Train CNN\n",
    "history = model.fit(x_train, y_train,\n",
    "          batch_size=48,\n",
    "          epochs=100,\n",
    "          verbose=2,\n",
    "          shuffle= True,\n",
    "          validation_data= (x_validation,y_validation),\n",
    "          validation_freq=1\n",
    "            \n",
    "          )"
   ]
  },
  {
   "cell_type": "code",
   "execution_count": 13,
   "metadata": {},
   "outputs": [
    {
     "data": {
      "text/plain": [
       "<matplotlib.legend.Legend at 0x2a72be18250>"
      ]
     },
     "execution_count": 13,
     "metadata": {},
     "output_type": "execute_result"
    },
    {
     "data": {
      "image/png": "[encoded data removed]",
      "text/plain": [
       "<Figure size 432x288 with 1 Axes>"
      ]
     },
     "metadata": {
      "needs_background": "light"
     },
     "output_type": "display_data"
    }
   ],
   "source": [
    "# Plot the training history\n",
    "import matplotlib.pyplot as plt\n",
    "plt.plot(history.history['loss'], label='loss')\n",
    "plt.plot(history.history['val_loss'], label = 'val_loss')\n",
    "plt.xlabel('Epoch')\n",
    "plt.ylabel('loss')\n",
    "plt.ylim([0, 5])\n",
    "plt.legend(loc='lower right')"
   ]
  },
  {
   "cell_type": "code",
   "execution_count": 14,
   "metadata": {},
   "outputs": [
    {
     "name": "stdout",
     "output_type": "stream",
     "text": [
      "dict_keys(['__header__', '__version__', '__globals__', 'Y'])\n",
      "dict_keys(['__header__', '__version__', '__globals__', 'Images', 'Y', 'None', 'num_images', 'padding', 'predictedY_train', 'predictedY_validation', 'siz', 'trainY', 'validationY', '__function_workspace__'])\n"
     ]
    },
    {
     "name": "stderr",
     "output_type": "stream",
     "text": [
      "d:\\Anaconda\\lib\\site-packages\\scipy\\io\\matlab\\mio.py:226: MatReadWarning: Duplicate variable name \"None\" in stream - replacing previous with new\n",
      "Consider mio5.varmats_from_mat to split file into single variable files\n",
      "  matfile_dict = MR.get_variables(variable_names)\n"
     ]
    }
   ],
   "source": [
    "# import test data\n",
    "Ytest = loadmat('D:/Final_project/matlab_code/Data/data-test.mat')\n",
    "Xtest = loadmat('D:/Final_project/matlab_code/Data/testImages.mat')\n",
    "print(Ytest.keys())\n",
    "print(Xtest.keys())\n",
    "\n",
    "x_test = Xtest['Images']\n",
    "y_test = Ytest['Y']\n",
    "\n",
    "# Normalize test data\n",
    "y_test = y_test.reshape(-1,)\n",
    "y_test = (y_test-np.mean(y_test))/np.std(y_test)\n",
    "\n",
    "x_test = x_test.reshape(-1,50,50,1)\n",
    "y_test = y_test.reshape(-1,1)"
   ]
  },
  {
   "cell_type": "code",
   "execution_count": 15,
   "metadata": {},
   "outputs": [
    {
     "name": "stdout",
     "output_type": "stream",
     "text": [
      "4/4 - 0s - loss: 1.3934 - 67ms/epoch - 17ms/step\n",
      "Test loss: 1.3934338092803955\n"
     ]
    }
   ],
   "source": [
    "score = model.evaluate(x_validation, y_validation, verbose=2)\n",
    "print('Test loss:', score)"
   ]
  },
  {
   "cell_type": "code",
   "execution_count": 16,
   "metadata": {},
   "outputs": [
    {
     "ename": "NameError",
     "evalue": "name 'r2_score' is not defined",
     "output_type": "error",
     "traceback": [
      "\u001b[1;31m---------------------------------------------------------------------------\u001b[0m",
      "\u001b[1;31mNameError\u001b[0m                                 Traceback (most recent call last)",
      "\u001b[1;32m~\\AppData\\Local\\Temp/ipykernel_43468/3875351202.py\u001b[0m in \u001b[0;36m<module>\u001b[1;34m\u001b[0m\n\u001b[0;32m      1\u001b[0m \u001b[1;31m# plot training fit\u001b[0m\u001b[1;33m\u001b[0m\u001b[1;33m\u001b[0m\u001b[0m\n\u001b[0;32m      2\u001b[0m \u001b[0my_pred_train\u001b[0m \u001b[1;33m=\u001b[0m \u001b[0mmodel\u001b[0m\u001b[1;33m.\u001b[0m\u001b[0mpredict\u001b[0m\u001b[1;33m(\u001b[0m\u001b[0mx_train\u001b[0m\u001b[1;33m)\u001b[0m\u001b[1;33m\u001b[0m\u001b[1;33m\u001b[0m\u001b[0m\n\u001b[1;32m----> 3\u001b[1;33m \u001b[0mr2\u001b[0m \u001b[1;33m=\u001b[0m \u001b[0mr2_score\u001b[0m\u001b[1;33m(\u001b[0m\u001b[0my_train\u001b[0m\u001b[1;33m,\u001b[0m \u001b[0my_pred_train\u001b[0m\u001b[1;33m)\u001b[0m\u001b[1;33m\u001b[0m\u001b[1;33m\u001b[0m\u001b[0m\n\u001b[0m\u001b[0;32m      4\u001b[0m \u001b[0mprint\u001b[0m\u001b[1;33m(\u001b[0m\u001b[1;34m'r2 score for training is'\u001b[0m\u001b[1;33m,\u001b[0m \u001b[0mr2\u001b[0m\u001b[1;33m)\u001b[0m\u001b[1;33m\u001b[0m\u001b[1;33m\u001b[0m\u001b[0m\n\u001b[0;32m      5\u001b[0m \u001b[1;33m\u001b[0m\u001b[0m\n",
      "\u001b[1;31mNameError\u001b[0m: name 'r2_score' is not defined"
     ]
    }
   ],
   "source": [
    "# plot training fit\n",
    "from sklearn.metrics import r2_score\n",
    "y_pred_train = model.predict(x_train)\n",
    "r2 = r2_score(y_train, y_pred_train)\n",
    "print('r2 score for training is', r2)\n",
    "\n",
    "y_pred_train = y_pred_train.reshape(-1,)\n",
    "y_train= y_train.reshape(-1,)\n",
    "plt.scatter(y_train,y_pred_train)\n",
    "plt.xlabel('Actual Strain Energy')\n",
    "plt.ylabel('Predicted Strain Energy')\n",
    "\n",
    "plt.plot(np.unique(y_train), np.poly1d(np.polyfit(y_train, y_pred_train, 1))(np.unique(y_train)))\n",
    "\n",
    "plt.text(0.6, 0.5, 'R-squared = %0.2f' % r2)\n",
    "plt.axis([-4, 4, -4, 4])\n",
    "plt.show()\n",
    "\n",
    "# plot validation fit\n",
    "y_pred_validation = model.predict(x_validation)\n",
    "r2 = r2_score(y_validation, y_pred_validation)\n",
    "print('r2 score for validation is', r2)\n",
    "\n",
    "y_pred_validation = y_pred_validation.reshape(-1,)\n",
    "y_validation= y_validation.reshape(-1,)\n",
    "plt.scatter(y_validation,y_pred_validation)\n",
    "plt.xlabel('Actual Strain Energy')\n",
    "plt.ylabel('Predicted Strain Energy')\n",
    "\n",
    "plt.plot(np.unique(y_validation), np.poly1d(np.polyfit(y_validation, y_pred_validation, 1))(np.unique(y_validation)))\n",
    "\n",
    "plt.text(0.6, 0.5, 'R-squared = %0.2f' % r2)\n",
    "plt.axis([-4, 4, -4, 4])\n",
    "plt.show()\n",
    "\n",
    "# plot test fit\n",
    "from sklearn.metrics import r2_score\n",
    "y_pred = model.predict(x_test)\n",
    "r2 = r2_score(y_test, y_pred)\n",
    "print('r2 score for test is', r2)\n",
    "\n",
    "y_pred = y_pred.reshape(-1,)\n",
    "y_test = y_test.reshape(-1,)\n",
    "plt.scatter(y_test,y_pred)\n",
    "plt.xlabel('Actual Strain Energy')\n",
    "plt.ylabel('Predicted Strain Energy')\n",
    "\n",
    "plt.plot(np.unique(y_test), np.poly1d(np.polyfit(y_test, y_pred, 1))(np.unique(y_test)))\n",
    "\n",
    "plt.text(0.6, 0.5, 'R-squared = %0.2f' % r2)\n",
    "plt.axis([-4, 4, -4, 4])\n",
    "plt.show()"
   ]
  },
  {
   "cell_type": "code",
   "execution_count": null,
   "metadata": {},
   "outputs": [],
   "source": []
  }
 ],
 "metadata": {
  "kernelspec": {
   "display_name": "Python 3.9.7 ('base')",
   "language": "python",
   "name": "python3"
  },
  "language_info": {
   "codemirror_mode": {
    "name": "ipython",
    "version": 3
   },
   "file_extension": ".py",
   "mimetype": "text/x-python",
   "name": "python",
   "nbconvert_exporter": "python",
   "pygments_lexer": "ipython3",
   "version": "3.9.7"
  },
  "orig_nbformat": 4,
  "vscode": {
   "interpreter": {
    "hash": "88279d2366fe020547cde40dd65aa0e3aa662a6ec1f3ca12d88834876c85e1a6"
   }
  }
 },
 "nbformat": 4,
 "nbformat_minor": 2
}
